{
 "cells": [
  {
   "cell_type": "markdown",
   "metadata": {},
   "source": [
    "# The SAGA algorithm\n",
    "\n",
    "\n",
    "The SAGA algorithm (stochastic average gradient augmented [Defazio 2014]) is a relatively recent algorithm with very favorable scalability properties. In this lecture we will implement such algorithm and discuss some of its properties.\n",
    "\n",
    "SAGA belong to the family of stochastic gradient descent (SGD) methods. However, unlike plain SGD it stores the previous gradients and has better convergence properties.\n",
    "\n",
    "As before, we consider the problem of minimizing a finite sum of convex terms:\n",
    "$$\n",
    "\\text{argmin}_{\\theta} \\frac{1}{n} \\sum_{i=1}^n l_i(\\theta)\n",
    "$$\n",
    "\n",
    "The basic algorithm is relies on two moving quantities: a vector of coefficients $\\theta \\in \\mathbb{R}^p$ and a table $g \\in \\mathbb{R}^{n \\times p}$ to store the previous gradients. Then the basic iteration is given by the recursion \n",
    "\n",
    "\n",
    "$$\n",
    "\\theta^+ = \\theta - \\gamma (\\nabla l_i(\\theta) - g_i + \\bar{g}), \\quad g_i^+ = \\nabla l_i(\\theta)\n",
    "$$\n",
    "\n",
    "\n",
    "Note that we will be considering the smooth optimization problems. Hence, compared to the course notes $\\psi=0$ and the proximal operator does not appear in the optimization $(\\text{prox}(x|\\psi) = x)$.\n",
    "\n",
    "### References\n",
    "\n",
    "[DSOML Course slides 4](http://marcocuturi.net/Teaching/ENSAE/2017/DSOML/DSOML4.pdf)\n",
    "\n",
    "Defazio, Aaron, Francis Bach, and Simon Lacoste-Julien. [\"SAGA: A fast incremental gradient method with support for non-strongly convex composite objectives.\"](https://arxiv.org/abs/1407.0202) Advances in Neural Information Processing Systems. 2014.\n",
    "\n",
    "Leblond, Rémi, Pedregosa, Fabian, and Lacoste-Julien, Simon. [ASAGA: Asynchronous Parallel SAGA](https://arxiv.org/abs/1606.04809) Proceedings of the 20th International Conference on Artificial Intelligence and Statistics (AISTATS 2017), 2017.\n",
    "\n",
    "\n",
    "Defazio, Aaron. [\"A simple practical accelerated method for finite sums.\"](https://arxiv.org/abs/1602.02442) Advances In Neural Information Processing Systems. 2016.\n",
    "\n",
    "---\n",
    "\n",
    "In this class we will code an efficient version of this algorithm. This will be divided in the following steps:\n",
    "\n",
    "  1. **Naive implementation**. First we will implement a naive version of the algorithm and check its correctness.\n",
    "  2. **Just-in-time compilation** using [Numba](http://numba.pydata.org). Let's face it, sometimes Python is slow. Here we will use the Numba to compile the algorithm on the fly and achieve C-level speed using Python.\n",
    "  3. **Algorithmic speedup**. Then we will identify redundant computations and make the algorithm faster.\n"
   ]
  },
  {
   "cell_type": "markdown",
   "metadata": {},
   "source": [
    "# Step 1. Naive (but correct) implementation\n",
    "\n",
    "The goal is to implement the SAGA algorithm without worrying (yet) for efficiency but checking that the implementation is correct (i.e. that it converges towards a solution).\n",
    "\n",
    "The code below is an boilerplate implementation of of SAGA using elements from the last lecture. The code won't run as SAGA_UPDATE is not defined. Fill it with the correct form using the definition of the algorithm and check that the algorithm converges.\n",
    "\n",
    "<span style=\"color: red; font-weight: bold\">Task: fill the void. The algorithm below is correct except for a missing statement filled with XXX. Complete it. </span>\n"
   ]
  },
  {
   "cell_type": "code",
   "execution_count": 3,
   "metadata": {
    "collapsed": false
   },
   "outputs": [
    {
     "name": "stdout",
     "output_type": "stream",
     "text": [
      "Populating the interactive namespace from numpy and matplotlib\n"
     ]
    }
   ],
   "source": [
    "%pylab inline\n",
    "import numpy as np"
   ]
  },
  {
   "cell_type": "code",
   "execution_count": 4,
   "metadata": {
    "collapsed": true
   },
   "outputs": [],
   "source": [
    "# we will reuse the same set up as for SGD\n",
    "\n",
    "np.random.seed(0)\n",
    "\n",
    "n_samples, n_features = 100, 10\n",
    "A = np.random.randn(n_samples, n_features)\n",
    "w = np.random.randn(n_features)\n",
    "b = A.dot(w) + np.random.randn(n_samples)\n",
    "step_size = 1.0 / (3 * np.max((A * A).sum(1)))\n",
    "\n",
    "\n",
    "def func(theta):\n",
    "    return 0.5 * np.sum((b - np.dot(A, theta)) ** 2)\n",
    "\n",
    "def grad(theta):\n",
    "    return - A.T.dot(b - np.dot(A, theta))\n",
    "\n",
    "def partial_grad(theta, i):\n",
    "    return - A[i] * (b[i] - np.dot(A[i], theta))"
   ]
  },
  {
   "cell_type": "code",
   "execution_count": 12,
   "metadata": {
    "collapsed": false
   },
   "outputs": [],
   "source": [
    "\n",
    "def SAGA(A, b, max_iter=100):\n",
    "\n",
    "    # .. initial guess (could be anything) ..\n",
    "    theta_k = np.zeros(n_features)\n",
    "\n",
    "    # .. initialization for historial gradients ..\n",
    "    old_grad = np.zeros((n_samples, n_features))\n",
    "    mean_grad = np.zeros(n_features)\n",
    "\n",
    "    # .. to keep track of the gradient (for plotting purposes) ..\n",
    "    grad_history = np.ones(max_iter)\n",
    "\n",
    "    # .. main loop ..\n",
    "    for i in range(n_samples * max_iter):\n",
    "        # .. pick random sample ..\n",
    "        idx = np.random.randint(0, n_samples)\n",
    "\n",
    "        # .. compute saga update rule ..\n",
    "        cur_grad = partial_grad(theta_k, idx)\n",
    "        mean_grad[:] = 0\n",
    "        for j in range(n_samples):\n",
    "            mean_grad += old_grad[j] / n_samples\n",
    "        saga_update = cur_grad - old_grad[idx] + mean_grad\n",
    "\n",
    "        # .. make update ..\n",
    "        theta_k = theta_k - step_size * saga_update\n",
    "\n",
    "        # .. save historical gradients ..\n",
    "        old_grad[idx] = cur_grad\n",
    "\n",
    "        # .. save gradient (for plotting purposes) every epoch ..\n",
    "        if i % n_samples == 0:\n",
    "            grad_history[i // n_samples] = np.linalg.norm(grad(theta_k))\n",
    "\n",
    "    return theta_k, grad_history\n",
    "\n",
    "sol, grad_history = SAGA(A, b)"
   ]
  },
  {
   "cell_type": "code",
   "execution_count": 11,
   "metadata": {
    "collapsed": false
   },
   "outputs": [
    {
     "data": {
      "image/png": "[encoded data removed]",
      "text/plain": [
       "<matplotlib.figure.Figure at 0x11abb7710>"
      ]
     },
     "metadata": {},
     "output_type": "display_data"
    }
   ],
   "source": [
    "plt.plot(grad_history, lw=4)\n",
    "plt.grid()\n",
    "plt.yscale('log')\n",
    "plt.ylabel('Gradient norm')\n",
    "plt.xlabel('Passes through the data')\n",
    "plt.show()"
   ]
  },
  {
   "cell_type": "code",
   "execution_count": 13,
   "metadata": {
    "collapsed": false
   },
   "outputs": [
    {
     "name": "stdout",
     "output_type": "stream",
     "text": [
      "1 loop, best of 3: 2.3 s per loop\n"
     ]
    }
   ],
   "source": [
    "# .. time the algorithm ..\n",
    "%timeit SAGA(A, b)"
   ]
  },
  {
   "cell_type": "markdown",
   "metadata": {},
   "source": [
    "# Step 2. Just-in-time compilation\n",
    "\n",
    "Python can be slow, specially in non-vectorized operations. However, it is possible to accelerate numerical computations in Python using the Numba library, as long as the computations depend exclusively on NumPy arrays (as is our case)."
   ]
  },
  {
   "cell_type": "markdown",
   "metadata": {},
   "source": [
    "## Numba crash course\n",
    "\n",
    "Consider a python function as the one below that adds component-wise two arrays a, b:"
   ]
  },
  {
   "cell_type": "code",
   "execution_count": 14,
   "metadata": {
    "collapsed": false
   },
   "outputs": [
    {
     "name": "stdout",
     "output_type": "stream",
     "text": [
      "100 loops, best of 3: 14.6 ms per loop\n"
     ]
    }
   ],
   "source": [
    "def add(p, q):\n",
    "    c = np.zeros(p.size)\n",
    "    for i in range(p.size):\n",
    "        c[i] = p[i] + q[i]\n",
    "    return c\n",
    "\n",
    "p = np.random.randn(50000)\n",
    "q = np.random.randn(50000)\n",
    "\n",
    "%timeit add(p, q)"
   ]
  },
  {
   "cell_type": "markdown",
   "metadata": {},
   "source": [
    "This function only depends on the NumPy arrays a, b and so can be accelerated by Numba. For this all we need to do is to import \"from numba import njit\" and add \"@njit\" before the declaration of the function. This process is known as _decorating_ the function and \"@njit\" is the decorator."
   ]
  },
  {
   "cell_type": "code",
   "execution_count": 15,
   "metadata": {
    "collapsed": false
   },
   "outputs": [
    {
     "name": "stdout",
     "output_type": "stream",
     "text": [
      "The slowest run took 2904.24 times longer than the fastest. This could mean that an intermediate result is being cached.\n",
      "10000 loops, best of 3: 48.1 µs per loop\n"
     ]
    }
   ],
   "source": [
    "from numba import njit\n",
    "\n",
    "@njit\n",
    "def add_jit(p, q):\n",
    "    c = np.zeros(p.size)\n",
    "    for i in range(p.size):\n",
    "        c[i] = p[i] + q[i]\n",
    "    return c\n",
    "\n",
    "%timeit add_jit(p, q)"
   ]
  },
  {
   "cell_type": "markdown",
   "metadata": {},
   "source": [
    "... and the resulting function is 500x times faster!\n",
    "\n",
    "<img style=\"height: 200px\" src=\"http://www.quickmeme.com/img/40/40b96f717103244d7d9dea023de22820619058efade0a529f2938430963ed6c7.jpg\" />"
   ]
  },
  {
   "cell_type": "markdown",
   "metadata": {},
   "source": [
    "# Now lets apply this to the SAGA algorithm above.\n",
    "\n",
    "We copy-paste the algorithm and decorate the relevant functions with \"@njit\":"
   ]
  },
  {
   "cell_type": "code",
   "execution_count": 16,
   "metadata": {
    "collapsed": false
   },
   "outputs": [],
   "source": [
    "from numba import njit\n",
    "\n",
    "\n",
    "@njit\n",
    "def grad_jit(theta):\n",
    "    return - np.dot(A.T, b - np.dot(A, theta))\n",
    "\n",
    "@njit\n",
    "def partial_grad_jit(theta, i):\n",
    "    return - A[i] * (b[i] - np.dot(A[i], theta))\n",
    "\n",
    "@njit\n",
    "def SAGA_jit(A, b, max_iter=100):\n",
    "\n",
    "    # .. initial guess (could be anything) ..\n",
    "    theta_k = np.zeros(n_features)\n",
    "\n",
    "    # .. initialization for historial gradients ..\n",
    "    old_grad = np.zeros((n_samples, n_features))\n",
    "    mean_grad = np.zeros(n_features)\n",
    "\n",
    "    # .. to keep track of the gradient (for plotting purposes) ..\n",
    "    grad_history = np.ones(max_iter)\n",
    "\n",
    "    # .. main loop ..\n",
    "    for i in range(n_samples * max_iter):\n",
    "        # .. pick random sample ..\n",
    "        idx = np.random.randint(0, n_samples)\n",
    "\n",
    "        # .. compute saga update rule ..\n",
    "        cur_grad = partial_grad_jit(theta_k, idx)\n",
    "        mean_grad[:] = 0\n",
    "        for j in range(n_samples):\n",
    "            mean_grad += old_grad[j] / n_samples\n",
    "        saga_update = cur_grad - old_grad[idx] + mean_grad\n",
    "\n",
    "        # .. make update ..\n",
    "        theta_k = theta_k - step_size * saga_update\n",
    "\n",
    "        # .. save historical gradients ..\n",
    "        old_grad[idx] = cur_grad\n",
    "\n",
    "        # .. save gradient (for plotting purposes) every epoch ..\n",
    "        if i % n_samples == 0:\n",
    "            grad_history[i // n_samples] = np.linalg.norm(grad_jit(theta_k))\n",
    "\n",
    "    return theta_k, grad_history\n",
    "\n",
    "sol_jit, grad_history_jit = SAGA_jit(A, b)"
   ]
  },
  {
   "cell_type": "code",
   "execution_count": 17,
   "metadata": {
    "collapsed": false
   },
   "outputs": [
    {
     "data": {
      "image/png": "[encoded data removed]",
      "text/plain": [
       "<matplotlib.figure.Figure at 0x11cbf68d0>"
      ]
     },
     "metadata": {},
     "output_type": "display_data"
    }
   ],
   "source": [
    "plt.plot(grad_history_jit, lw=4)\n",
    "plt.grid()\n",
    "plt.yscale('log')\n",
    "plt.ylabel('Gradient norm')\n",
    "plt.xlabel('Number of epochs')\n",
    "plt.show()"
   ]
  },
  {
   "cell_type": "code",
   "execution_count": 18,
   "metadata": {
    "collapsed": false
   },
   "outputs": [
    {
     "name": "stdout",
     "output_type": "stream",
     "text": [
      "10 loops, best of 3: 177 ms per loop\n"
     ]
    }
   ],
   "source": [
    "# .. time the algorithm ..\n",
    "%timeit SAGA_jit(A, b)"
   ]
  },
  {
   "cell_type": "markdown",
   "metadata": {},
   "source": [
    "That is again 20x times faster than the pure Python version. Nice!"
   ]
  },
  {
   "cell_type": "markdown",
   "metadata": {},
   "source": [
    "# Step 3. Algorithmic and storage improvements.\n",
    "\n",
    "\n",
    "**Algorithmic improvements**. Are all the computations in the above algorithm really necessary? E.g., do I need to compute $\\bar{g}$ at each iteration? Can you identify other redundant operations?\n",
    "\n",
    "<span style=\"color: red; font-weight: bold\" />Task 1: modify the algorithm above to incrementally update $\\bar{g}$ (mean_grad) instead of recomputing it.</span>\n",
    "\n"
   ]
  },
  {
   "cell_type": "code",
   "execution_count": 19,
   "metadata": {
    "collapsed": false
   },
   "outputs": [],
   "source": [
    "from numba import njit\n",
    "\n",
    "\n",
    "@njit\n",
    "def grad_jit(theta):\n",
    "    return - np.dot(A.T, b - np.dot(A, theta))\n",
    "\n",
    "@njit\n",
    "def partial_grad_jit(theta, i):\n",
    "    return - A[i] * (b[i] - np.dot(A[i], theta))\n",
    "\n",
    "@njit\n",
    "def SAGA_jit(A, b, max_iter=100):\n",
    "\n",
    "    # .. initial guess (could be anything) ..\n",
    "    theta_k = np.zeros(n_features)\n",
    "\n",
    "    # .. initialization for historial gradients ..\n",
    "    old_grad = np.zeros((n_samples, n_features))\n",
    "    mean_grad = np.zeros(n_features)\n",
    "\n",
    "    # .. to keep track of the gradient (for plotting purposes) ..\n",
    "    grad_history = np.ones(max_iter)\n",
    "\n",
    "    # .. main loop ..\n",
    "    for i in range(n_samples * max_iter):\n",
    "        # .. pick random sample ..\n",
    "        idx = np.random.randint(0, n_samples)\n",
    "\n",
    "        # .. compute saga update rule ..\n",
    "        cur_grad = partial_grad_jit(theta_k, idx)\n",
    "        saga_update = cur_grad - old_grad[idx] + mean_grad\n",
    "        mean_grad += (cur_grad - old_grad[idx]) / n_samples\n",
    "\n",
    "        # .. make update ..\n",
    "        theta_k = theta_k - step_size * saga_update\n",
    "\n",
    "        # .. save historical gradients ..\n",
    "        old_grad[idx] = cur_grad\n",
    "\n",
    "        # .. save gradient (for plotting purposes) every epoch ..\n",
    "        if i % n_samples == 0:\n",
    "            grad_history[i // n_samples] = np.linalg.norm(grad_jit(theta_k))\n",
    "\n",
    "    return theta_k, grad_history\n",
    "\n",
    "sol_jit, grad_history_jit = SAGA_jit(A, b)"
   ]
  },
  {
   "cell_type": "code",
   "execution_count": 20,
   "metadata": {
    "collapsed": false
   },
   "outputs": [
    {
     "data": {
      "image/png": "[encoded data removed]",
      "text/plain": [
       "<matplotlib.figure.Figure at 0x11d325e48>"
      ]
     },
     "metadata": {},
     "output_type": "display_data"
    }
   ],
   "source": [
    "plt.plot(grad_history_jit, lw=4)\n",
    "plt.grid()\n",
    "plt.yscale('log')\n",
    "plt.ylabel('Gradient norm')\n",
    "plt.xlabel('Number of epochs')\n",
    "plt.show()"
   ]
  },
  {
   "cell_type": "code",
   "execution_count": 21,
   "metadata": {
    "collapsed": false
   },
   "outputs": [
    {
     "name": "stdout",
     "output_type": "stream",
     "text": [
      "100 loops, best of 3: 6.97 ms per loop\n"
     ]
    }
   ],
   "source": [
    "# .. time the algorithm ..\n",
    "%timeit SAGA_jit(A, b)"
   ]
  },
  {
   "cell_type": "markdown",
   "metadata": {
    "collapsed": false
   },
   "source": [
    "### Optional (if time permits)\n",
    "\n",
    "**Reduced storage**. On of the biggest disadvantages of the SAGA algorithm is that it requires to store a table of past gradients. However, it is possible to reduce the storage of the historical gradients. For example, the partial gradients for least squares are:\n",
    "$$\n",
    "\\nabla l_i(\\theta) = - \\underbrace{a_i^T}_{\\text{ does not depend on $\\theta$}} \\underbrace{(b_i - a_i^T \\theta)}_{\\text{scalar}}\n",
    "$$\n",
    "and so it is only necesary to store the scalar part of the gradient. The true gradient will be computed when needed from the scalar part.\n",
    "\n",
    "<span style=\"color: red; font-weight: bold\" />Task 2: modify the algorithm to use this reduced storage scheme.</span>\n"
   ]
  },
  {
   "cell_type": "code",
   "execution_count": null,
   "metadata": {
    "collapsed": false
   },
   "outputs": [],
   "source": []
  },
  {
   "cell_type": "code",
   "execution_count": null,
   "metadata": {
    "collapsed": true
   },
   "outputs": [],
   "source": []
  }
 ],
 "metadata": {
  "kernelspec": {
   "display_name": "Python 3",
   "language": "python",
   "name": "python3"
  },
  "language_info": {
   "codemirror_mode": {
    "name": "ipython",
    "version": 3
   },
   "file_extension": ".py",
   "mimetype": "text/x-python",
   "name": "python",
   "nbconvert_exporter": "python",
   "pygments_lexer": "ipython3",
   "version": "3.6.0"
  }
 },
 "nbformat": 4,
 "nbformat_minor": 2
}
