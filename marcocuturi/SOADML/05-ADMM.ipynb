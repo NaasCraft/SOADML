{
 "cells": [
  {
   "cell_type": "markdown",
   "metadata": {},
   "source": [
    "# Distributed Optimization with the Alternating Direction Method of Multipliers\n",
    "\n",
    "In this lecture we will see the how the ADMM algorithm can be used for distributed optimization. Using the notatation from the course slides, we aim to solve the following optimization problem\n",
    "\n",
    "![](ADMM_problem.png)\n",
    "\n",
    "\n",
    "The algorithm is described by the following iteration:\n",
    "\n",
    "![](ADMM_algorithm.png)\n",
    "\n",
    "where the first N updates can be done in parallel.\n",
    "\n",
    "\n",
    "## Structure of this session:\n",
    "\n",
    "   * ADMM with 1 split (sequential algorithm).\n",
    "   * ADMM with 2 splits or more.\n",
    "   * Parallelize the splitting algorithm in Python using multiprocessing.\n",
    "   * We will see one application of the lasso, that of tomography reconstruction. \n",
    "   \n",
    "\n",
    "![](tomography.png)\n",
    "\n",
    "\n",
    "## References\n",
    "\n",
    "* [DSOML course notes](http://marcocuturi.net/Teaching/ENSAE/2017/DSOML/DSOML5.pdf)\n",
    "\n",
    "* [Distributed Optimization and Statistical\n",
    "Learning via the Alternating Direction\n",
    "Method of Multipliers](http://stanford.edu/~boyd/papers/pdf/admm_distr_stats.pdf), S. Boyd et al. 2010"
   ]
  },
  {
   "cell_type": "code",
   "execution_count": 28,
   "metadata": {
    "collapsed": false
   },
   "outputs": [
    {
     "name": "stdout",
     "output_type": "stream",
     "text": [
      "Populating the interactive namespace from numpy and matplotlib\n"
     ]
    }
   ],
   "source": [
    "# .. needed imports ..\n",
    "import numpy as np\n",
    "%pylab inline"
   ]
  },
  {
   "cell_type": "markdown",
   "metadata": {},
   "source": [
    "\n",
    "\n",
    "# Practical session: Lasso problem\n",
    "\n",
    "We will now use ADMM to solve a nonsmooth optimization problem.\n",
    "\n",
    "\n",
    "The Lasso is staistical model that has found many applications in machine learning, signal processing, biomedical imaging and genetics, to name a few. Given a regression dataset $A \\in \\mathbb{R}^{n \\times p}, b \\in \\mathbb{R}^n$, the Lasso is determined as the solution to the optimization problem\n",
    "\n",
    "$$\\text{argmin}_{\\theta} \\frac{1}{2n}\\|A \\theta - b\\|^2 + \\lambda \\|\\theta\\|_1 \\quad,$$\n",
    "where $\\lambda$ is a regularization parameter. The Lasso model is so useful because, given enough regularization, it gives solutions which are *sparse*, i.e., with many zero coefficients.\n",
    "\n",
    "\n",
    "\n",
    "# Part 1: a simple implementation\n",
    "\n",
    "We can reformulate the Lasso problem in the following equivalent form\n",
    "$$\n",
    "\\begin{aligned}\n",
    "&\\text{argmin}_{\\theta} \\frac{1}{2n}\\|A \\theta - b\\|^2 + \\lambda \\|\\rho\\|_1 \\quad,\\\\\n",
    "&\\text{ subject to }~ \\theta=\\rho\n",
    "\\end{aligned}\n",
    "$$\n",
    "\n",
    "Now that we have written it in ADMM-friendly fashion, we can use the the above algorithm with $N=1$. This gives the following iteration:\n",
    "$$\n",
    "\\begin{aligned}\n",
    "&\\theta^{t+1} = \\text{argmin}_{\\theta} \\frac{1}{2n}\\|A \\theta - b\\|^2 + \\frac{\\tau}{2}\\|\\theta - \\rho^t + u^t\\|^2 \\\\\n",
    "&\\rho^{t+1} = \\text{argmin}_{\\theta} \\lambda \\|\\theta\\|_1 + \\frac{\\tau}{2} \\|\\theta - \\theta^{t+1} - u^t\\|^2\\\\\n",
    "& u^{t+1} = u^t + \\theta^{t+1} - \\rho^{t+1}\n",
    "\\end{aligned}\n",
    "$$\n",
    "\n",
    "It turns that for this particular problem many of the steps have a closed form solution. Using this we have the following closed form updates:\n",
    "$$\n",
    "\\begin{aligned}\n",
    "&\\theta^{t+1} = \\frac{1}{n}(A^T A / n + \\tau I)^{-1}(A^T b / n + \\tau (\\rho^t - u^t)) \\\\\n",
    "&\\rho^{t+1} = (\\theta^{t+1} + u^t - \\frac{\\tau}{\\lambda})_+ - (\\frac{\\tau}{\\lambda} - \\theta^{t+1} - u^t)_+\\\\\n",
    "& u^{t+1} = u^t + \\theta^{t+1} - \\rho^{t+1}\n",
    "\\end{aligned}\n",
    "$$\n",
    "\n",
    "where $(\\cdot)_+$ denote the positive part, i.e., $(x)_+ := \\text{max}(x, 0)$.\n",
    "\n"
   ]
  },
  {
   "cell_type": "code",
   "execution_count": 44,
   "metadata": {
    "collapsed": false
   },
   "outputs": [],
   "source": [
    "\n",
    "# .. create some fake data ..\n",
    "np.random.seed(0)\n",
    "\n",
    "n_samples, n_features = 100, 100\n",
    "A = np.random.randn(n_samples, n_features)\n",
    "w = np.random.randn(n_features)\n",
    "b = A.dot(w) + np.random.randn(n_samples)\n",
    "\n",
    "def obj_fun(theta, A, b, lamb):\n",
    "    # .. the lasso objective function ..\n",
    "    loss = (0.5 / n_samples) * np.linalg.norm(A.dot(theta) - b)**2\n",
    "    return loss + lamb * np.sum(np.abs(theta))\n",
    "\n",
    "def lasso_ADMM(A, b, max_iter=100, lam=1.):\n",
    "    # .. initialize variables ..\n",
    "    tau = 1.\n",
    "    n_samples, n_features = A.shape\n",
    "    rho = np.zeros(n_features)\n",
    "    u = np.zeros(n_features)\n",
    "\n",
    "    # .. to keep track of progress ..\n",
    "    obj_fun_history = []\n",
    "\n",
    "    # .. cache inverse matrix ..\n",
    "    AtA_inv = np.linalg.pinv(A.T.dot(A) / n_samples + tau * np.eye(n_features))\n",
    "    for i in range(max_iter):\n",
    "        theta = AtA_inv.dot(A.T.dot(b) / n_samples + tau * (rho - u))\n",
    "        rho = np.fmax(theta + u - lam /tau, 0) - np.fmax(-lam/tau - theta - u, 0)\n",
    "        u = u + theta - rho\n",
    "        obj_fun_history.append(obj_fun(theta, A, b, lam))\n",
    "\n",
    "    return theta, obj_fun_history\n",
    "    \n",
    "theta, func_vals = lasso_ADMM(A, b, lam=1.)"
   ]
  },
  {
   "cell_type": "code",
   "execution_count": 45,
   "metadata": {
    "collapsed": false
   },
   "outputs": [
    {
     "data": {
      "image/png": "[encoded data removed]",
      "text/plain": [
       "<matplotlib.figure.Figure at 0x11701c860>"
      ]
     },
     "metadata": {},
     "output_type": "display_data"
    }
   ],
   "source": [
    "# lets plot the objective values of the function\n",
    "# to make sure it has converged\n",
    "plt.plot(func_vals)\n",
    "plt.ylabel('function values')\n",
    "plt.xlabel('numbe of iterations')\n",
    "plt.grid()\n",
    "plt.show()"
   ]
  },
  {
   "cell_type": "code",
   "execution_count": 46,
   "metadata": {
    "collapsed": false
   },
   "outputs": [
    {
     "data": {
      "image/png": "[encoded data removed]",
      "text/plain": [
       "<matplotlib.figure.Figure at 0x11abdc7f0>"
      ]
     },
     "metadata": {},
     "output_type": "display_data"
    }
   ],
   "source": [
    "# let's also look at the coefficients of the solution\n",
    "plt.scatter(np.arange(len(theta)), theta)\n",
    "plt.ylabel('Magnitude')\n",
    "plt.xlabel('Coefficients')\n",
    "plt.grid()\n",
    "plt.show()"
   ]
  },
  {
   "cell_type": "markdown",
   "metadata": {},
   "source": [
    "They are **sparse**, i.e., with many coefficients set exactly to zero."
   ]
  },
  {
   "cell_type": "markdown",
   "metadata": {},
   "source": [
    "In the above example, both steps are closed form but this is not necessarily the case. For example, in the case of L1-regularized logistic regression,\n",
    "$$\n",
    "    \\text{argmin}_{\\theta} \\frac{1}{n} \\sum_{i=1}^n -\\log(1 + e^{-b_i a_i^T x})\n",
    "$$\n",
    "\n",
    "\n",
    "<span style=\"color: red; font-weight: bold\">Exercise (10 min): Logistic Regression. Adapt the above code to optimize an L1 regularized logistic regression (i.e. when the loss is the logistic loss instead of the squared loss).</span>\n"
   ]
  },
  {
   "cell_type": "code",
   "execution_count": null,
   "metadata": {
    "collapsed": true
   },
   "outputs": [],
   "source": []
  },
  {
   "cell_type": "code",
   "execution_count": 52,
   "metadata": {
    "collapsed": false
   },
   "outputs": [
    {
     "name": "stdout",
     "output_type": "stream",
     "text": [
      "sol.x is a solution to the logistic regression problem\n"
     ]
    }
   ],
   "source": [
    "from scipy import optimize\n",
    "\n",
    "# .. make b be {-1, 1} since its a classification problem ..\n",
    "b = np.sign(A.dot(w) + np.random.randn(n_samples))\n",
    "\n",
    "\n",
    "\n",
    "\n",
    "# this solves the logistic regression problem\n",
    "# from scipy import optimize\n",
    "print('sol.x is a solution to the logistic regression problem')\n",
    "\n",
    "\n",
    "def ADMM_logloss(A, b, max_iter=100, lam=1.):\n",
    "    # .. initialize variables ..\n",
    "    tau = 1.\n",
    "    n_samples, n_features = A.shape\n",
    "    rho = np.zeros(n_features)\n",
    "    u = np.zeros(n_features)\n",
    "    theta = np.zeros(n_features)\n",
    "\n",
    "    # .. to keep track of progress ..\n",
    "    obj_fun_history = []\n",
    "\n",
    "    # .. cache inverse matrix ..\n",
    "    for i in range(max_iter):\n",
    "        def logistic_loss(theta):\n",
    "            p = b * A.dot(theta)\n",
    "            t = 1.0 + np.exp(-p)\n",
    "            return -np.sum(np.log(1.0 / t)) / n_samples\\\n",
    "            + (tau / 2.) * np.linalg.norm(theta - rho + u) ** 2\n",
    "\n",
    "        def logistic_grad(theta):\n",
    "            t = b * A.dot(theta)\n",
    "            z = 1. / (1 + np.exp(-t))\n",
    "            z0 = (z - 1) * b\n",
    "            grad_w = A.T.dot(z0) \n",
    "            return grad_w / n_samples\\\n",
    "               + tau * (theta - rho + u)\n",
    "\n",
    "        theta = optimize.minimize(\n",
    "            logistic_loss, theta, jac=logistic_grad).x\n",
    "        rho = np.fmax(theta + u - lam /tau, 0)\\\n",
    "                - np.fmax(-lam/tau - theta - u, 0)\n",
    "        u = u + theta - rho\n",
    "        obj_fun_history.append(logistic_loss(theta)\\\n",
    "                               + lam * np.sum(np.abs(theta)))\n",
    "\n",
    "    return theta, obj_fun_history\n",
    "    \n",
    "theta, func_vals = ADMM_logloss(A, b, lam=0.1)"
   ]
  },
  {
   "cell_type": "code",
   "execution_count": 53,
   "metadata": {
    "collapsed": false
   },
   "outputs": [
    {
     "data": {
      "image/png": "[encoded data removed]",
      "text/plain": [
       "<matplotlib.figure.Figure at 0x11ac045c0>"
      ]
     },
     "metadata": {},
     "output_type": "display_data"
    }
   ],
   "source": [
    "plt.plot(func_vals)\n",
    "plt.grid()\n",
    "plt.show()"
   ]
  },
  {
   "cell_type": "code",
   "execution_count": 54,
   "metadata": {
    "collapsed": false
   },
   "outputs": [
    {
     "data": {
      "image/png": "[encoded data removed]",
      "text/plain": [
       "<matplotlib.figure.Figure at 0x11a8da5c0>"
      ]
     },
     "metadata": {},
     "output_type": "display_data"
    }
   ],
   "source": [
    "# let's also look at the coefficients of the solution\n",
    "plt.scatter(np.arange(len(theta)), theta)\n",
    "plt.ylabel('Magnitude')\n",
    "plt.xlabel('Coefficients')\n",
    "plt.grid()\n",
    "plt.show()"
   ]
  },
  {
   "cell_type": "markdown",
   "metadata": {},
   "source": [
    "# Part 2: more than one split\n",
    "\n",
    "We will now use ADMM to actually do some distributed computations. For this we can split the first subproblem into two ($N=2$) and using the ADMM algorithm specified at the beginning.\n"
   ]
  },
  {
   "cell_type": "code",
   "execution_count": 57,
   "metadata": {
    "collapsed": false
   },
   "outputs": [],
   "source": [
    "\n",
    "\n",
    "def lasso_ADMM_2(A, b, max_iter=100, lam=1.):\n",
    "\n",
    "    # .. split current dataset ..\n",
    "    A_1, A_2 = np.array_split(A, 2)\n",
    "    b_1, b_2 = np.array_split(b, 2)\n",
    "\n",
    "    # .. initialize variables ..\n",
    "    tau = 1.\n",
    "    n_samples, n_features = A.shape\n",
    "    rho = np.zeros(n_features)\n",
    "    u_1 = np.zeros(n_features)\n",
    "    u_2 = np.zeros(n_features)\n",
    "\n",
    "    # .. to keep track of progress ..\n",
    "    obj_fun_history = []\n",
    "\n",
    "    # .. cache inverse matrix ..\n",
    "    AtA_1_inv = np.linalg.pinv(A_1.T.dot(A_1) / n_samples + tau * np.eye(n_features))\n",
    "    AtA_2_inv = np.linalg.pinv(A_2.T.dot(A_2) / n_samples + tau * np.eye(n_features))\n",
    "\n",
    "    for i in range(max_iter):\n",
    "        theta_1 = AtA_1_inv.dot(A_1.T.dot(b_1) / n_samples + tau * (rho - u_1))\n",
    "        theta_2 = AtA_2_inv.dot(A_2.T.dot(b_2) / n_samples + tau * (rho - u_2))\n",
    "        u = (u_1 + u_2) / 2.\n",
    "        theta = (theta_1 + theta_2) / 2.\n",
    "        rho = np.fmax(theta + u - lam /tau, 0) - np.fmax(-lam/tau - theta - u, 0)\n",
    "        u_1 = u_1 + theta_1 - rho\n",
    "        u_2 = u_2 + theta_2 - rho\n",
    "        obj_fun_history.append(obj_fun(theta_1, A, b, lam))\n",
    "\n",
    "    return theta, obj_fun_history\n",
    "\n",
    "theta_1, func_vals = lasso_ADMM_2(A, b)"
   ]
  },
  {
   "cell_type": "code",
   "execution_count": 58,
   "metadata": {
    "collapsed": false
   },
   "outputs": [
    {
     "data": {
      "image/png": "[encoded data removed]",
      "text/plain": [
       "<matplotlib.figure.Figure at 0x116bdc898>"
      ]
     },
     "metadata": {},
     "output_type": "display_data"
    }
   ],
   "source": [
    "# lets plot the objective values of the function\n",
    "# to make sure it has converged\n",
    "plt.plot(func_vals)\n",
    "plt.ylabel('function values')\n",
    "plt.xlabel('numbe of iterations')\n",
    "plt.grid()\n",
    "plt.show()"
   ]
  },
  {
   "cell_type": "markdown",
   "metadata": {},
   "source": [
    "<span style=\"color: red; font-weight: bold\">Exercise (10 min): Extend this to ar arbitrary number of splits.</span>"
   ]
  },
  {
   "cell_type": "markdown",
   "metadata": {},
   "source": [
    "We will now use the multiprocessing library in the Python standard library to perform the theta_1 and theta_2 steps in parallel"
   ]
  },
  {
   "cell_type": "code",
   "execution_count": 61,
   "metadata": {
    "collapsed": false
   },
   "outputs": [],
   "source": [
    "import concurrent.futures\n",
    "\n",
    "def _compute_inverse(A_1, tau, n_features):\n",
    "    return np.linalg.pinv(A_1.T.dot(A_1) / n_samples + tau * np.eye(n_features))\n",
    "\n",
    "def _compute_theta(AtA_inv, A, b, tau, rho, u):\n",
    "    return AtA_inv.dot(A.T.dot(b) / n_samples + tau * (rho - u))\n",
    "\n",
    "def lasso_ADMM_2_MP(A, b, max_iter=100, lam=1.):\n",
    "\n",
    "    # .. split current dataset ..\n",
    "    A_1, A_2 = np.array_split(A, 2)\n",
    "    b_1, b_2 = np.array_split(b, 2)\n",
    "\n",
    "    # .. initialize variables ..\n",
    "    tau = 1.\n",
    "    n_samples, n_features = A.shape\n",
    "    rho = np.zeros(n_features)\n",
    "    u_1 = np.zeros(n_features)\n",
    "    u_2 = np.zeros(n_features)\n",
    "\n",
    "    # .. to keep track of progress ..\n",
    "    obj_fun_history = []\n",
    "\n",
    "    \n",
    "    futures = []\n",
    "    with concurrent.futures.ProcessPoolExecutor() as executor:\n",
    "        futures.append(executor.submit(_compute_inverse, A_1, tau, n_features))\n",
    "        futures.append(executor.submit(_compute_inverse, A_2, tau, n_features))    \n",
    "    concurrent.futures.wait(futures)\n",
    "\n",
    "    AtA_1_inv = futures[0].result()\n",
    "    AtA_2_inv = futures[1].result()\n",
    "\n",
    "\n",
    "    for i in range(max_iter):\n",
    "        futures = []\n",
    "        with concurrent.futures.ProcessPoolExecutor() as executor:\n",
    "            futures.append(executor.submit(_compute_theta, AtA_1_inv, A_1, b_1, tau, rho, u_1))\n",
    "            futures.append(executor.submit(_compute_theta, AtA_2_inv, A_2, b_2, tau, rho, u_2))\n",
    "        concurrent.futures.wait(futures)\n",
    "        theta_1 = futures[0].result()\n",
    "        theta_2 = futures[1].result()\n",
    "        theta = (theta_1 + theta_2) / 2.\n",
    "        u = (u_1 + u_2) / 2.\n",
    "        rho = np.fmax(theta + u - lam /tau, 0) - np.fmax(-lam/tau - theta - u, 0)\n",
    "        u_1 = u_1 + theta_1 - rho\n",
    "        u_2 = u_2 + theta_2 - rho\n",
    "        obj_fun_history.append(obj_fun(theta_1, A, b, lam))\n",
    "\n",
    "    return theta, obj_fun_history\n",
    "\n",
    "theta_1, func_vals = lasso_ADMM_2_MP(A, b)\n"
   ]
  },
  {
   "cell_type": "code",
   "execution_count": 62,
   "metadata": {
    "collapsed": false
   },
   "outputs": [
    {
     "data": {
      "image/png": "[encoded data removed]",
      "text/plain": [
       "<matplotlib.figure.Figure at 0x11a7c04a8>"
      ]
     },
     "metadata": {},
     "output_type": "display_data"
    }
   ],
   "source": [
    "# lets plot the objective values of the function\n",
    "# to make sure it has converged\n",
    "plt.plot(func_vals)\n",
    "plt.ylabel('function values')\n",
    "plt.xlabel('numbe of iterations')\n",
    "\n",
    "plt.grid()\n",
    "plt.show()"
   ]
  },
  {
   "cell_type": "markdown",
   "metadata": {},
   "source": [
    "## Compressive sensing application: tomography reconstruction with the Lasso\n",
    "\n",
    "\n",
    "This example shows the reconstruction of an image from a set of parallel projections, acquired along different angles. Such a dataset is acquired in computed tomography (CT).\n",
    "\n",
    "Without any prior information on the sample, the number of projections required to reconstruct the image is of the order of the linear size l of the image (in pixels). For simplicity we consider here a sparse image, where only pixels on the boundary of objects have a non-zero value. Such data could correspond for example to a cellular material. Note however that most images are sparse in a different basis, such as the Haar wavelets. Only l/7 projections are acquired, therefore it is necessary to use prior information available on the sample (its sparsity): this is an example of compressive sensing.\n",
    "\n",
    "The tomography projection operation is a linear transformation. In addition to the data-fidelity term corresponding to a linear regression, we penalize the L1 norm of the image to account for its sparsity. **The resulting optimization problem is called the Lasso**.\n",
    "\n",
    "\n",
    "The reconstruction with L1 penalization should give a result with zero error (all pixels are successfully labeled with 0 or 1), even if noise was added to the projections. In comparison, an L2 penalization (sklearn.linear_model.Ridge) produces a large number of labeling errors for the pixels. Important artifacts are observed on the reconstructed image, contrary to the L1 penalization. Note in particular the circular artifact separating the pixels in the corners, that have contributed to fewer projections than the central disk.\n",
    "\n",
    "\n",
    "<span style=\"color: red; font-weight: bold\">Exercise (10 min). I have done the image reconstruction using Ridge regression, do it using the lasso algorithm previously coded.</span>"
   ]
  },
  {
   "cell_type": "code",
   "execution_count": 76,
   "metadata": {
    "collapsed": false
   },
   "outputs": [
    {
     "name": "stderr",
     "output_type": "stream",
     "text": [
      "/Users/fabian/anaconda3/lib/python3.6/site-packages/ipykernel/__main__.py:64: VisibleDeprecationWarning: using a non-integer number instead of an integer will result in an error in the future\n",
      "/Users/fabian/anaconda3/lib/python3.6/site-packages/ipykernel/__main__.py:68: DeprecationWarning: numpy boolean subtract, the `-` operator, is deprecated, use the bitwise_xor, the `^` operator, or the logical_xor function instead.\n"
     ]
    }
   ],
   "source": [
    "import numpy as np\n",
    "from scipy import sparse\n",
    "from scipy import ndimage\n",
    "from sklearn.linear_model import Lasso\n",
    "from sklearn.linear_model import Ridge\n",
    "import matplotlib.pyplot as plt\n",
    "\n",
    "\n",
    "def _weights(x, dx=1, orig=0):\n",
    "    x = np.ravel(x)\n",
    "    floor_x = np.floor((x - orig) / dx)\n",
    "    alpha = (x - orig - floor_x * dx) / dx\n",
    "    return np.hstack((floor_x, floor_x + 1)), np.hstack((1 - alpha, alpha))\n",
    "\n",
    "\n",
    "def _generate_center_coordinates(l_x):\n",
    "    X, Y = np.mgrid[:l_x, :l_x].astype(np.float64)\n",
    "    center = l_x / 2.\n",
    "    X += 0.5 - center\n",
    "    Y += 0.5 - center\n",
    "    return X, Y\n",
    "\n",
    "\n",
    "def build_projection_operator(l_x, n_dir):\n",
    "    \"\"\" Compute the tomography design matrix.\n",
    "\n",
    "    Parameters\n",
    "    ----------\n",
    "\n",
    "    l_x : int\n",
    "        linear size of image array\n",
    "\n",
    "    n_dir : int\n",
    "        number of angles at which projections are acquired.\n",
    "\n",
    "    Returns\n",
    "    -------\n",
    "    p : sparse matrix of shape (n_dir l_x, l_x**2)\n",
    "    \"\"\"\n",
    "    X, Y = _generate_center_coordinates(l_x)\n",
    "    angles = np.linspace(0, np.pi, n_dir, endpoint=False)\n",
    "    data_inds, weights, camera_inds = [], [], []\n",
    "    data_unravel_indices = np.arange(l_x ** 2)\n",
    "    data_unravel_indices = np.hstack((data_unravel_indices,\n",
    "                                      data_unravel_indices))\n",
    "    for i, angle in enumerate(angles):\n",
    "        Xrot = np.cos(angle) * X - np.sin(angle) * Y\n",
    "        inds, w = _weights(Xrot, dx=1, orig=X.min())\n",
    "        mask = np.logical_and(inds >= 0, inds < l_x)\n",
    "        weights += list(w[mask])\n",
    "        camera_inds += list(inds[mask] + i * l_x)\n",
    "        data_inds += list(data_unravel_indices[mask])\n",
    "    proj_operator = sparse.coo_matrix((weights, (camera_inds, data_inds)))\n",
    "    return proj_operator.toarray()\n",
    "\n",
    "\n",
    "def generate_synthetic_data():\n",
    "    \"\"\" Synthetic binary data \"\"\"\n",
    "    rs = np.random.RandomState(0)\n",
    "    n_pts = 12.\n",
    "    x, y = np.ogrid[0:l, 0:l]\n",
    "    mask_outer = (x - l / 2) ** 2 + (y - l / 2) ** 2 < (l / 2) ** 2\n",
    "    mask = np.zeros((l, l))\n",
    "    points = l * rs.rand(2, n_pts)\n",
    "    mask[(points[0]).astype(np.int), (points[1]).astype(np.int)] = 1\n",
    "    mask = ndimage.gaussian_filter(mask, sigma=l / n_pts)\n",
    "    res = np.logical_and(mask > mask.mean(), mask_outer)\n",
    "    return res - ndimage.binary_erosion(res)\n",
    "\n",
    "\n",
    "# Generate synthetic images, and projections\n",
    "l = 32\n",
    "proj_operator = build_projection_operator(l, l / 5.)\n",
    "data = generate_synthetic_data()\n",
    "y = proj_operator.dot(data.ravel()[:, np.newaxis])\n",
    "y += 0.15 * np.random.randn(*y.shape)\n",
    "\n",
    "# Reconstruction with L2 (Ridge) penalization\n",
    "rgr_ridge = Ridge(alpha=0.2)\n",
    "rgr_ridge.fit(proj_operator, y.ravel())\n",
    "rec_l2 = rgr_ridge.coef_.reshape(l, l)\n",
    "\n",
    "l1_rec, _ = lasso_ADMM(proj_operator, y.ravel(), lam=0.01)\n",
    "l1_rec = l1_rec.reshape(l, l)"
   ]
  },
  {
   "cell_type": "code",
   "execution_count": 77,
   "metadata": {
    "collapsed": false
   },
   "outputs": [
    {
     "data": {
      "image/png": "[encoded data removed]",
      "text/plain": [
       "<matplotlib.figure.Figure at 0x11ada2978>"
      ]
     },
     "metadata": {},
     "output_type": "display_data"
    }
   ],
   "source": [
    "\n",
    "plt.figure(figsize=(8, 3.3))\n",
    "plt.subplot(131)\n",
    "plt.imshow(data, cmap=plt.cm.gray, interpolation='nearest')\n",
    "plt.axis('off')\n",
    "plt.title('original image')\n",
    "plt.subplot(132)\n",
    "plt.imshow(rec_l2, cmap=plt.cm.gray, interpolation='nearest')\n",
    "plt.title('Ridge regression')\n",
    "plt.axis('off')\n",
    "plt.subplot(133)\n",
    "plt.imshow(l1_rec, cmap=plt.cm.gray, interpolation='nearest')\n",
    "\n",
    "plt.axis('off')\n",
    "\n",
    "plt.subplots_adjust(hspace=0.01, wspace=0.01, top=1, bottom=0, left=0,\n",
    "                    right=1)\n",
    "\n",
    "plt.show()"
   ]
  },
  {
   "cell_type": "code",
   "execution_count": null,
   "metadata": {
    "collapsed": true
   },
   "outputs": [],
   "source": []
  },
  {
   "cell_type": "code",
   "execution_count": null,
   "metadata": {
    "collapsed": true
   },
   "outputs": [],
   "source": []
  }
 ],
 "metadata": {
  "kernelspec": {
   "display_name": "Python 3",
   "language": "python",
   "name": "python3"
  },
  "language_info": {
   "codemirror_mode": {
    "name": "ipython",
    "version": 3
   },
   "file_extension": ".py",
   "mimetype": "text/x-python",
   "name": "python",
   "nbconvert_exporter": "python",
   "pygments_lexer": "ipython3",
   "version": "3.6.0"
  }
 },
 "nbformat": 4,
 "nbformat_minor": 2
}
